{
  "nbformat": 4,
  "nbformat_minor": 0,
  "metadata": {
    "colab": {
      "provenance": []
    },
    "kernelspec": {
      "name": "python3",
      "display_name": "Python 3"
    },
    "language_info": {
      "name": "python"
    }
  },
  "cells": [
    {
      "cell_type": "code",
      "execution_count": null,
      "metadata": {
        "colab": {
          "base_uri": "https://localhost:8080/"
        },
        "id": "e4ciMjbltRZx",
        "outputId": "a10d5bdb-ca84-47d7-bf1a-4bcacc53d6f8"
      },
      "outputs": [
        {
          "output_type": "stream",
          "name": "stdout",
          "text": [
            "customers.csv  \u001b[0m\u001b[01;34mKaggle-cricket\u001b[0m/\n"
          ]
        }
      ],
      "source": [
        "\n",
        "ls /content/drive/MyDrive/'Colab Notebooks'/Data"
      ]
    },
    {
      "cell_type": "code",
      "source": [
        "from google.colab import drive\n",
        "drive.mount('/content/drive')"
      ],
      "metadata": {
        "colab": {
          "base_uri": "https://localhost:8080/"
        },
        "id": "IE24NtRlth-R",
        "outputId": "7be935d3-de37-409a-dcef-282f266782a7"
      },
      "execution_count": null,
      "outputs": [
        {
          "output_type": "stream",
          "name": "stdout",
          "text": [
            "Drive already mounted at /content/drive; to attempt to forcibly remount, call drive.mount(\"/content/drive\", force_remount=True).\n"
          ]
        }
      ]
    },
    {
      "cell_type": "code",
      "source": [
        "pip install pyspark"
      ],
      "metadata": {
        "colab": {
          "base_uri": "https://localhost:8080/"
        },
        "id": "XIhsMoZquTYF",
        "outputId": "ed9f9a18-15a7-4e00-eb86-6533d51b0f6d"
      },
      "execution_count": null,
      "outputs": [
        {
          "output_type": "stream",
          "name": "stdout",
          "text": [
            "Collecting pyspark\n",
            "  Downloading pyspark-3.5.1.tar.gz (317.0 MB)\n",
            "\u001b[2K     \u001b[90m━━━━━━━━━━━━━━━━━━━━━━━━━━━━━━━━━━━━━━━━\u001b[0m \u001b[32m317.0/317.0 MB\u001b[0m \u001b[31m3.9 MB/s\u001b[0m eta \u001b[36m0:00:00\u001b[0m\n",
            "\u001b[?25h  Preparing metadata (setup.py) ... \u001b[?25l\u001b[?25hdone\n",
            "Requirement already satisfied: py4j==0.10.9.7 in /usr/local/lib/python3.10/dist-packages (from pyspark) (0.10.9.7)\n",
            "Building wheels for collected packages: pyspark\n",
            "  Building wheel for pyspark (setup.py) ... \u001b[?25l\u001b[?25hdone\n",
            "  Created wheel for pyspark: filename=pyspark-3.5.1-py2.py3-none-any.whl size=317488491 sha256=d79e572b3e944890c397940f507d32c0961121e05066bc0c0c4908f8fd517d08\n",
            "  Stored in directory: /root/.cache/pip/wheels/80/1d/60/2c256ed38dddce2fdd93be545214a63e02fbd8d74fb0b7f3a6\n",
            "Successfully built pyspark\n",
            "Installing collected packages: pyspark\n",
            "Successfully installed pyspark-3.5.1\n"
          ]
        }
      ]
    },
    {
      "cell_type": "code",
      "source": [
        "from pyspark.sql.functions import *\n",
        "from pyspark.sql.window import Window\n",
        "\n",
        "from pyspark.sql import SparkSession\n"
      ],
      "metadata": {
        "id": "gjGFbr2Pt186"
      },
      "execution_count": null,
      "outputs": []
    },
    {
      "cell_type": "code",
      "source": [
        "spark = SparkSession.builder.getOrCreate()"
      ],
      "metadata": {
        "id": "mzhljK3Suaqa"
      },
      "execution_count": null,
      "outputs": []
    },
    {
      "cell_type": "code",
      "source": [
        "DATE_FORMAT = \"yyyy-MM-dd\"\n",
        "future_date = \"9999-12-31\"\n",
        "source_url1 = \"/content/drive/MyDrive/Colab Notebooks/Data/SCD_Demo/source/customer.csv\"\n",
        "destination_url = \"/content/drive/MyDrive/Colab Notebooks/Data/SCD_Demo/target\"\n",
        "primary_key = [\"customerid\"]\n",
        "slowly_changing_cols = [ \"email\",\"phone\",\"address\", \"city\", \"state\", \"zipcode\"]\n",
        "implementation_cols = [\"effective_date\",\"end_date\",\"active_flag\"]\n",
        "\n",
        "\n",
        "customers_source_schema = \"\"\"customerid long,firstname string, lastname string,\n",
        "                              email string, phone string, address string, city string,\n",
        "                              state string, zipcode long\"\"\"\n",
        "\n",
        "customers_target_schema = (\"\"\"customerid long,firstname string, lastname string, email string, phone string,\n",
        "                           address string, city string, state string, zipcode long, customer_skey long,\n",
        "                           effective_date date, end_date date, active_flag boolean\"\"\")\n"
      ],
      "metadata": {
        "id": "b3mq83o3uaay"
      },
      "execution_count": null,
      "outputs": []
    },
    {
      "cell_type": "code",
      "source": [
        "customers_source_df = spark.read \\\n",
        ".format(\"csv\") \\\n",
        ".option(\"header\",True) \\\n",
        ".schema(customers_source_schema) \\\n",
        ".load(source_url1)\n"
      ],
      "metadata": {
        "id": "dZha_Hl_vDWa"
      },
      "execution_count": null,
      "outputs": []
    },
    {
      "cell_type": "code",
      "source": [
        "customers_source_df.show()"
      ],
      "metadata": {
        "colab": {
          "base_uri": "https://localhost:8080/"
        },
        "id": "LNKAcyB_vazc",
        "outputId": "ead6d7ca-349c-46e3-d4bf-2f0ad925875a"
      },
      "execution_count": null,
      "outputs": [
        {
          "output_type": "stream",
          "name": "stdout",
          "text": [
            "+----------+-----------+--------+--------------------+--------+-------------+---------+-----+-------+\n",
            "|customerid|  firstname|lastname|               email|   phone|      address|     city|state|zipcode|\n",
            "+----------+-----------+--------+--------------------+--------+-------------+---------+-----+-------+\n",
            "|         1|       John|     Doe|   johndoe@email.com|555-1234|  123 Main St|  Anytown|   CA|  12345|\n",
            "|         2|       Jane|   Smith| janesmith@email.com|555-5678|  456 Oak Ave| Sometown|   NY|  67890|\n",
            "|         3|     Robert| Johnson|robertjohnson@ema...|555-8765|  789 Pine Ln|Othercity|   TX|  34567|\n",
            "|         4|      Alice|Williams|alicewilliams@ema...|555-4321| 234 Cedar Dr| Yourtown|   FL|  89012|\n",
            "|         5|    Michael|   Brown|michaelbrown@emai...|555-9876| 567 Elm Blvd|Theirtown|   IL|  45678|\n",
            "|         6|      Emily|  Miller|emilymiller@email...|555-6543| 890 Birch Rd|  Newcity|   WA|  23456|\n",
            "|         7|      David|   Jones|davidjones@email.com|555-2345|678 Maple Ave| Yourcity|   GA|  78901|\n",
            "|         8|      Sarah|Anderson|sarahanderson@ema...|555-5432|  901 Pine St| Heretown|   OH|  56789|\n",
            "|         9|Christopher|  Taylor|christophertaylor...|555-8765|   234 Oak Ln| Thistown|   PA|  12345|\n",
            "|        10|     Olivia|   Clark|oliviaclark@email...|555-3456|567 Cedar Ave| Thatcity|   TN|  67890|\n",
            "+----------+-----------+--------+--------------------+--------+-------------+---------+-----+-------+\n",
            "\n"
          ]
        }
      ]
    },
    {
      "cell_type": "code",
      "source": [
        "window_def = Window.orderBy(\"customerid\")"
      ],
      "metadata": {
        "id": "cSGLf4SavfMI"
      },
      "execution_count": null,
      "outputs": []
    },
    {
      "cell_type": "code",
      "source": [
        "enhanced_customers_source_df = spark.read \\\n",
        ".format(\"csv\") \\\n",
        ".option(\"header\",True) \\\n",
        ".schema(customers_source_schema) \\\n",
        ".load(source_url1) \\\n",
        ".withColumn(\"customer_skey\",row_number().over(window_def)) \\\n",
        ".withColumn(\"effective_date\",date_format(current_date(), DATE_FORMAT)) \\\n",
        ".withColumn(\"end_date\",date_format(lit(future_date), DATE_FORMAT)) \\\n",
        ".withColumn(\"active_flag\", lit(True))"
      ],
      "metadata": {
        "id": "MXhzIYZMv6tO"
      },
      "execution_count": null,
      "outputs": []
    },
    {
      "cell_type": "code",
      "source": [
        "enhanced_customers_source_df.show()"
      ],
      "metadata": {
        "colab": {
          "base_uri": "https://localhost:8080/"
        },
        "id": "zDo7GOFPwAtn",
        "outputId": "88f22b5e-368f-48fb-c02c-99a786df8956"
      },
      "execution_count": null,
      "outputs": [
        {
          "output_type": "stream",
          "name": "stdout",
          "text": [
            "+----------+-----------+--------+--------------------+--------+-------------+---------+-----+-------+-------------+--------------+----------+-----------+\n",
            "|customerid|  firstname|lastname|               email|   phone|      address|     city|state|zipcode|customer_skey|effective_date|  end_date|active_flag|\n",
            "+----------+-----------+--------+--------------------+--------+-------------+---------+-----+-------+-------------+--------------+----------+-----------+\n",
            "|         1|       John|     Doe|   johndoe@email.com|555-1234|  123 Main St|  Anytown|   CA|  12345|            1|    2024-06-08|9999-12-31|       true|\n",
            "|         2|       Jane|   Smith| janesmith@email.com|555-5678|  456 Oak Ave| Sometown|   NY|  67890|            2|    2024-06-08|9999-12-31|       true|\n",
            "|         3|     Robert| Johnson|robertjohnson@ema...|555-8765|  789 Pine Ln|Othercity|   TX|  34567|            3|    2024-06-08|9999-12-31|       true|\n",
            "|         4|      Alice|Williams|alicewilliams@ema...|555-4321| 234 Cedar Dr| Yourtown|   FL|  89012|            4|    2024-06-08|9999-12-31|       true|\n",
            "|         5|    Michael|   Brown|michaelbrown@emai...|555-9876| 567 Elm Blvd|Theirtown|   IL|  45678|            5|    2024-06-08|9999-12-31|       true|\n",
            "|         6|      Emily|  Miller|emilymiller@email...|555-6543| 890 Birch Rd|  Newcity|   WA|  23456|            6|    2024-06-08|9999-12-31|       true|\n",
            "|         7|      David|   Jones|davidjones@email.com|555-2345|678 Maple Ave| Yourcity|   GA|  78901|            7|    2024-06-08|9999-12-31|       true|\n",
            "|         8|      Sarah|Anderson|sarahanderson@ema...|555-5432|  901 Pine St| Heretown|   OH|  56789|            8|    2024-06-08|9999-12-31|       true|\n",
            "|         9|Christopher|  Taylor|christophertaylor...|555-8765|   234 Oak Ln| Thistown|   PA|  12345|            9|    2024-06-08|9999-12-31|       true|\n",
            "|        10|     Olivia|   Clark|oliviaclark@email...|555-3456|567 Cedar Ave| Thatcity|   TN|  67890|           10|    2024-06-08|9999-12-31|       true|\n",
            "+----------+-----------+--------+--------------------+--------+-------------+---------+-----+-------+-------------+--------------+----------+-----------+\n",
            "\n"
          ]
        }
      ]
    },
    {
      "cell_type": "code",
      "source": [
        "enhanced_customers_source_df.write.mode('overwrite') \\\n",
        ".option(\"header\",True) \\\n",
        ".option(\"delimiter\",\",\") \\\n",
        ".csv(destination_url)"
      ],
      "metadata": {
        "id": "Djf31YuwwaDk"
      },
      "execution_count": null,
      "outputs": []
    },
    {
      "cell_type": "markdown",
      "source": [
        "new dataframe reading from the output file"
      ],
      "metadata": {
        "id": "j74IaZEVw2nL"
      }
    },
    {
      "cell_type": "code",
      "source": [
        "customers_target_df = spark.read \\\n",
        ".format(\"csv\") \\\n",
        ".option(\"header\",True) \\\n",
        ".schema(customers_target_schema) \\\n",
        ".load(destination_url)"
      ],
      "metadata": {
        "id": "zkTZhyhnwkIF"
      },
      "execution_count": null,
      "outputs": []
    },
    {
      "cell_type": "code",
      "source": [
        "customers_target_df.show()"
      ],
      "metadata": {
        "colab": {
          "base_uri": "https://localhost:8080/"
        },
        "id": "Au_lGPv_woMq",
        "outputId": "fce63c43-902e-4e38-a834-1a70f25ccb8a"
      },
      "execution_count": null,
      "outputs": [
        {
          "output_type": "stream",
          "name": "stdout",
          "text": [
            "+----------+-----------+--------+--------------------+--------+-------------+---------+-----+-------+-------------+--------------+----------+-----------+\n",
            "|customerid|  firstname|lastname|               email|   phone|      address|     city|state|zipcode|customer_skey|effective_date|  end_date|active_flag|\n",
            "+----------+-----------+--------+--------------------+--------+-------------+---------+-----+-------+-------------+--------------+----------+-----------+\n",
            "|         1|       John|     Doe|   johndoe@email.com|555-1234|  123 Main St|  Anytown|   CA|  12345|            1|    2024-06-08|9999-12-31|       true|\n",
            "|         2|       Jane|   Smith| janesmith@email.com|555-5678|  456 Oak Ave| Sometown|   NY|  67890|            2|    2024-06-08|9999-12-31|       true|\n",
            "|         3|     Robert| Johnson|robertjohnson@ema...|555-8765|  789 Pine Ln|Othercity|   TX|  34567|            3|    2024-06-08|9999-12-31|       true|\n",
            "|         4|      Alice|Williams|alicewilliams@ema...|555-4321| 234 Cedar Dr| Yourtown|   FL|  89012|            4|    2024-06-08|9999-12-31|       true|\n",
            "|         5|    Michael|   Brown|michaelbrown@emai...|555-9876| 567 Elm Blvd|Theirtown|   IL|  45678|            5|    2024-06-08|9999-12-31|       true|\n",
            "|         6|      Emily|  Miller|emilymiller@email...|555-6543| 890 Birch Rd|  Newcity|   WA|  23456|            6|    2024-06-08|9999-12-31|       true|\n",
            "|         7|      David|   Jones|davidjones@email.com|555-2345|678 Maple Ave| Yourcity|   GA|  78901|            7|    2024-06-08|9999-12-31|       true|\n",
            "|         8|      Sarah|Anderson|sarahanderson@ema...|555-5432|  901 Pine St| Heretown|   OH|  56789|            8|    2024-06-08|9999-12-31|       true|\n",
            "|         9|Christopher|  Taylor|christophertaylor...|555-8765|   234 Oak Ln| Thistown|   PA|  12345|            9|    2024-06-08|9999-12-31|       true|\n",
            "|        10|     Olivia|   Clark|oliviaclark@email...|555-3456|567 Cedar Ave| Thatcity|   TN|  67890|           10|    2024-06-08|9999-12-31|       true|\n",
            "+----------+-----------+--------+--------------------+--------+-------------+---------+-----+-------+-------------+--------------+----------+-----------+\n",
            "\n"
          ]
        }
      ]
    },
    {
      "cell_type": "code",
      "source": [
        "customers_source_df.show()"
      ],
      "metadata": {
        "colab": {
          "base_uri": "https://localhost:8080/"
        },
        "id": "5p-PJMbNwqWQ",
        "outputId": "04005d2b-a2c1-4f9e-aaa2-11232b9ba436"
      },
      "execution_count": null,
      "outputs": [
        {
          "output_type": "stream",
          "name": "stdout",
          "text": [
            "+----------+-----------+--------+--------------------+--------+-------------+---------+-----+-------+\n",
            "|customerid|  firstname|lastname|               email|   phone|      address|     city|state|zipcode|\n",
            "+----------+-----------+--------+--------------------+--------+-------------+---------+-----+-------+\n",
            "|         1|       John|     Doe|   johndoe@email.com|555-1234|  123 Main St|  Anytown|   CA|  12345|\n",
            "|         2|       Jane|   Smith| janesmith@email.com|555-5678|  456 Oak Ave| Sometown|   NY|  67890|\n",
            "|         3|     Robert| Johnson|robertjohnson@ema...|555-8765|  789 Pine Ln|Othercity|   TX|  34567|\n",
            "|         4|      Alice|Williams|alicewilliams@ema...|555-4321| 234 Cedar Dr| Yourtown|   FL|  89012|\n",
            "|         5|    Michael|   Brown|michaelbrown@emai...|555-9876| 567 Elm Blvd|Theirtown|   IL|  45678|\n",
            "|         6|      Emily|  Miller|emilymiller@email...|555-6543| 890 Birch Rd|  Newcity|   WA|  23456|\n",
            "|         7|      David|   Jones|davidjones@email.com|555-2345|678 Maple Ave| Yourcity|   GA|  78901|\n",
            "|         8|      Sarah|Anderson|sarahanderson@ema...|555-5432|  901 Pine St| Heretown|   OH|  56789|\n",
            "|         9|Christopher|  Taylor|christophertaylor...|555-8765|   234 Oak Ln| Thistown|   PA|  12345|\n",
            "|        10|     Olivia|   Clark|oliviaclark@email...|555-3456|567 Cedar Ave| Thatcity|   TN|  67890|\n",
            "+----------+-----------+--------+--------------------+--------+-------------+---------+-----+-------+\n",
            "\n"
          ]
        }
      ]
    },
    {
      "cell_type": "code",
      "source": [
        "customers_target_df.where('active_flag == false').count()"
      ],
      "metadata": {
        "colab": {
          "base_uri": "https://localhost:8080/"
        },
        "id": "ad0hZA7fxi2R",
        "outputId": "66a5320c-36ba-4f91-e036-f5b58fe8eba0"
      },
      "execution_count": null,
      "outputs": [
        {
          "output_type": "execute_result",
          "data": {
            "text/plain": [
              "0"
            ]
          },
          "metadata": {},
          "execution_count": 29
        }
      ]
    },
    {
      "cell_type": "markdown",
      "source": [
        "sk = surrogate key"
      ],
      "metadata": {
        "id": "cbB8sFTIytWC"
      }
    },
    {
      "cell_type": "code",
      "source": [
        "max_sk = customers_target_df.agg({\"customer_skey\": \"max\"}).collect()[0][0]\n",
        "\n",
        "print(max_sk)"
      ],
      "metadata": {
        "colab": {
          "base_uri": "https://localhost:8080/"
        },
        "id": "_W0YpAA_w9UH",
        "outputId": "dbfaf235-a7ad-44de-d87e-dd8ed4aa15c1"
      },
      "execution_count": null,
      "outputs": [
        {
          "output_type": "stream",
          "name": "stdout",
          "text": [
            "10\n"
          ]
        }
      ]
    },
    {
      "cell_type": "code",
      "source": [
        "active_customers_target_df = customers_target_df.where(col(\"active_flag\")==True)\n",
        "\n",
        "active_customers_target_df.show()"
      ],
      "metadata": {
        "colab": {
          "base_uri": "https://localhost:8080/"
        },
        "id": "F3whZpDcxFBV",
        "outputId": "f351cf35-732f-41d9-c9e8-8dc9f0077a57"
      },
      "execution_count": null,
      "outputs": [
        {
          "output_type": "stream",
          "name": "stdout",
          "text": [
            "+----------+-----------+--------+--------------------+--------+-------------+---------+-----+-------+-------------+--------------+----------+-----------+\n",
            "|customerid|  firstname|lastname|               email|   phone|      address|     city|state|zipcode|customer_skey|effective_date|  end_date|active_flag|\n",
            "+----------+-----------+--------+--------------------+--------+-------------+---------+-----+-------+-------------+--------------+----------+-----------+\n",
            "|         1|       John|     Doe|   johndoe@email.com|555-1234|  123 Main St|  Anytown|   CA|  12345|            1|    2024-06-08|9999-12-31|       true|\n",
            "|         2|       Jane|   Smith| janesmith@email.com|555-5678|  456 Oak Ave| Sometown|   NY|  67890|            2|    2024-06-08|9999-12-31|       true|\n",
            "|         3|     Robert| Johnson|robertjohnson@ema...|555-8765|  789 Pine Ln|Othercity|   TX|  34567|            3|    2024-06-08|9999-12-31|       true|\n",
            "|         4|      Alice|Williams|alicewilliams@ema...|555-4321| 234 Cedar Dr| Yourtown|   FL|  89012|            4|    2024-06-08|9999-12-31|       true|\n",
            "|         5|    Michael|   Brown|michaelbrown@emai...|555-9876| 567 Elm Blvd|Theirtown|   IL|  45678|            5|    2024-06-08|9999-12-31|       true|\n",
            "|         6|      Emily|  Miller|emilymiller@email...|555-6543| 890 Birch Rd|  Newcity|   WA|  23456|            6|    2024-06-08|9999-12-31|       true|\n",
            "|         7|      David|   Jones|davidjones@email.com|555-2345|678 Maple Ave| Yourcity|   GA|  78901|            7|    2024-06-08|9999-12-31|       true|\n",
            "|         8|      Sarah|Anderson|sarahanderson@ema...|555-5432|  901 Pine St| Heretown|   OH|  56789|            8|    2024-06-08|9999-12-31|       true|\n",
            "|         9|Christopher|  Taylor|christophertaylor...|555-8765|   234 Oak Ln| Thistown|   PA|  12345|            9|    2024-06-08|9999-12-31|       true|\n",
            "|        10|     Olivia|   Clark|oliviaclark@email...|555-3456|567 Cedar Ave| Thatcity|   TN|  67890|           10|    2024-06-08|9999-12-31|       true|\n",
            "+----------+-----------+--------+--------------------+--------+-------------+---------+-----+-------+-------------+--------------+----------+-----------+\n",
            "\n"
          ]
        }
      ]
    },
    {
      "cell_type": "code",
      "source": [
        "inactive_customers_target_df = customers_target_df.where(col(\"active_flag\")==False)\n",
        "\n",
        "inactive_customers_target_df.show()"
      ],
      "metadata": {
        "colab": {
          "base_uri": "https://localhost:8080/"
        },
        "id": "xMLtMAcqy7hf",
        "outputId": "b7a829bf-f7b1-4377-dc01-34c0d2d3494e"
      },
      "execution_count": null,
      "outputs": [
        {
          "output_type": "stream",
          "name": "stdout",
          "text": [
            "+----------+---------+--------+-----+-----+-------+----+-----+-------+-------------+--------------+--------+-----------+\n",
            "|customerid|firstname|lastname|email|phone|address|city|state|zipcode|customer_skey|effective_date|end_date|active_flag|\n",
            "+----------+---------+--------+-----+-----+-------+----+-----+-------+-------------+--------------+--------+-----------+\n",
            "+----------+---------+--------+-----+-----+-------+----+-----+-------+-------------+--------------+--------+-----------+\n",
            "\n"
          ]
        }
      ]
    },
    {
      "cell_type": "markdown",
      "source": [
        "Re running source df as file is changed in the source folder"
      ],
      "metadata": {
        "id": "1sI6hYKD0aiN"
      }
    },
    {
      "cell_type": "markdown",
      "source": [
        "updates (1,2,3)<br>\n",
        "insert (11,12)<br>\n",
        "delete (10)<br>\n",
        "unchanged (all other records)"
      ],
      "metadata": {
        "id": "TFZQs9u_0ngO"
      }
    },
    {
      "cell_type": "code",
      "source": [
        "source_url2 = \"/content/drive/MyDrive/Colab Notebooks/Data/SCD_Demo/source/customer_new.csv\"\n",
        "\n",
        "customers_source_df = spark.read \\\n",
        ".format(\"csv\") \\\n",
        ".option(\"header\",True) \\\n",
        ".schema(customers_source_schema) \\\n",
        ".load(source_url2)"
      ],
      "metadata": {
        "id": "dE7ALgIm0Zww"
      },
      "execution_count": null,
      "outputs": []
    },
    {
      "cell_type": "code",
      "source": [
        "active_customers_target_df.join(customers_source_df, \"customerid\" , \"full_outer\").show()"
      ],
      "metadata": {
        "colab": {
          "base_uri": "https://localhost:8080/"
        },
        "id": "3oFOxApcxxU6",
        "outputId": "15bd7e9d-c4cc-48d8-8663-b5d778768f28"
      },
      "execution_count": null,
      "outputs": [
        {
          "output_type": "stream",
          "name": "stdout",
          "text": [
            "+----------+-----------+--------+--------------------+--------+-------------+---------+-----+-------+-------------+--------------+----------+-----------+-----------+--------+--------------------+--------+-------------+----------+-----+-------+\n",
            "|customerid|  firstname|lastname|               email|   phone|      address|     city|state|zipcode|customer_skey|effective_date|  end_date|active_flag|  firstname|lastname|               email|   phone|      address|      city|state|zipcode|\n",
            "+----------+-----------+--------+--------------------+--------+-------------+---------+-----+-------+-------------+--------------+----------+-----------+-----------+--------+--------------------+--------+-------------+----------+-----+-------+\n",
            "|         1|       John|     Doe|   johndoe@email.com|555-1234|  123 Main St|  Anytown|   CA|  12345|            1|    2024-06-08|9999-12-31|       true|       John|     Doe|   johndoe@gmail.com|555-1234|  123 Main St|   Anytown|   CA|  12345|\n",
            "|         2|       Jane|   Smith| janesmith@email.com|555-5678|  456 Oak Ave| Sometown|   NY|  67890|            2|    2024-06-08|9999-12-31|       true|       Jane|   Smith| janesmith@email.com|555-5679|  456 Oak Ave|  Sometown|   NY|  67890|\n",
            "|         3|     Robert| Johnson|robertjohnson@ema...|555-8765|  789 Pine Ln|Othercity|   TX|  34567|            3|    2024-06-08|9999-12-31|       true|     Robert| Johnson|robertjohnson@ema...|555-8765|   123 Elm Ln|Harborcity|   FL|  87654|\n",
            "|         4|      Alice|Williams|alicewilliams@ema...|555-4321| 234 Cedar Dr| Yourtown|   FL|  89012|            4|    2024-06-08|9999-12-31|       true|      Alice|Williams|alicewilliams@ema...|555-4321| 234 Cedar Dr|  Yourtown|   FL|  89012|\n",
            "|         5|    Michael|   Brown|michaelbrown@emai...|555-9876| 567 Elm Blvd|Theirtown|   IL|  45678|            5|    2024-06-08|9999-12-31|       true|    Michael|   Brown|michaelbrown@emai...|555-9876| 567 Elm Blvd| Theirtown|   IL|  45678|\n",
            "|         6|      Emily|  Miller|emilymiller@email...|555-6543| 890 Birch Rd|  Newcity|   WA|  23456|            6|    2024-06-08|9999-12-31|       true|      Emily|  Miller|emilymiller@email...|555-6543| 890 Birch Rd|   Newcity|   WA|  23456|\n",
            "|         7|      David|   Jones|davidjones@email.com|555-2345|678 Maple Ave| Yourcity|   GA|  78901|            7|    2024-06-08|9999-12-31|       true|      David|   Jones|davidjones@email.com|555-2345|678 Maple Ave|  Yourcity|   GA|  78901|\n",
            "|         8|      Sarah|Anderson|sarahanderson@ema...|555-5432|  901 Pine St| Heretown|   OH|  56789|            8|    2024-06-08|9999-12-31|       true|      Sarah|Anderson|sarahanderson@ema...|555-5432|  901 Pine St|  Heretown|   OH|  56789|\n",
            "|         9|Christopher|  Taylor|christophertaylor...|555-8765|   234 Oak Ln| Thistown|   PA|  12345|            9|    2024-06-08|9999-12-31|       true|Christopher|  Taylor|christophertaylor...|555-8765|   234 Oak Ln|  Thistown|   PA|  12345|\n",
            "|        10|     Olivia|   Clark|oliviaclark@email...|555-3456|567 Cedar Ave| Thatcity|   TN|  67890|           10|    2024-06-08|9999-12-31|       true|       NULL|    NULL|                NULL|    NULL|         NULL|      NULL| NULL|   NULL|\n",
            "|        11|       NULL|    NULL|                NULL|    NULL|         NULL|     NULL| NULL|   NULL|         NULL|          NULL|      NULL|       NULL|      Grace|  Turner|graceturner@email...|555-1122|   567 Oak St|  Cityview|   CA|  98765|\n",
            "|        12|       NULL|    NULL|                NULL|    NULL|         NULL|     NULL| NULL|   NULL|         NULL|          NULL|      NULL|       NULL|     Connor|   Evans|connorevans@email...|555-2233| 890 Pine Ave|Townsville|   TX|  54321|\n",
            "+----------+-----------+--------+--------------------+--------+-------------+---------+-----+-------+-------------+--------------+----------+-----------+-----------+--------+--------------------+--------+-------------+----------+-----+-------+\n",
            "\n"
          ]
        }
      ]
    },
    {
      "cell_type": "markdown",
      "source": [
        "if rows have NULLS in left(target) table and not NULL in right(source), it means those are new and needs to be inserted<br>\n",
        "<br>\n",
        "if target = not null<br>\n",
        "source = null, it means delete<br>\n",
        "<br>\n",
        "\n",
        "For updates:-<br>\n",
        "create hash based on columns that can be modified from the list of columns defined above"
      ],
      "metadata": {
        "id": "aR_B0gMd1gkX"
      }
    },
    {
      "cell_type": "code",
      "source": [
        "def column_renamer(df, suffix, append):\n",
        "    if append:\n",
        "        new_column_names = list(map(lambda x: x + suffix, df.columns))\n",
        "\n",
        "    else:\n",
        "        new_column_names = list(map(lambda x: x.replace(suffix, \"\"), df.columns))\n",
        "\n",
        "    return df.toDF(*new_column_names)\n",
        "\n",
        "def get_hash(df, keys_list):\n",
        "    columns = [col(column) for column in keys_list]\n",
        "\n",
        "    if columns:\n",
        "        return df.withColumn(\"hash_md5\", md5(concat_ws(\"\", *columns)))\n",
        "    else:\n",
        "        return df.withColumn(\"hash_md5\", md5(lit(1)))"
      ],
      "metadata": {
        "id": "spnA5otFx3_t"
      },
      "execution_count": null,
      "outputs": []
    },
    {
      "cell_type": "code",
      "source": [
        "active_customers_target_df_hash = \\\n",
        "column_renamer(df=get_hash(active_customers_target_df, slowly_changing_cols), suffix=\"_target\", append=True)"
      ],
      "metadata": {
        "id": "jPqjqNuYyAGw"
      },
      "execution_count": null,
      "outputs": []
    },
    {
      "cell_type": "code",
      "source": [
        "active_customers_target_df_hash.show()"
      ],
      "metadata": {
        "colab": {
          "base_uri": "https://localhost:8080/"
        },
        "id": "O2O5Hd65ykke",
        "outputId": "63df8fe0-c3c4-4ab6-a6c3-21f1bd99e7a8"
      },
      "execution_count": null,
      "outputs": [
        {
          "output_type": "stream",
          "name": "stdout",
          "text": [
            "+-----------------+----------------+---------------+--------------------+------------+--------------+-----------+------------+--------------+--------------------+---------------------+---------------+------------------+--------------------+\n",
            "|customerid_target|firstname_target|lastname_target|        email_target|phone_target|address_target|city_target|state_target|zipcode_target|customer_skey_target|effective_date_target|end_date_target|active_flag_target|     hash_md5_target|\n",
            "+-----------------+----------------+---------------+--------------------+------------+--------------+-----------+------------+--------------+--------------------+---------------------+---------------+------------------+--------------------+\n",
            "|                1|            John|            Doe|   johndoe@email.com|    555-1234|   123 Main St|    Anytown|          CA|         12345|                   1|           2024-06-08|     9999-12-31|              true|31ddb0d8a5baa88cc...|\n",
            "|                2|            Jane|          Smith| janesmith@email.com|    555-5678|   456 Oak Ave|   Sometown|          NY|         67890|                   2|           2024-06-08|     9999-12-31|              true|b1604de584bc896a6...|\n",
            "|                3|          Robert|        Johnson|robertjohnson@ema...|    555-8765|   789 Pine Ln|  Othercity|          TX|         34567|                   3|           2024-06-08|     9999-12-31|              true|42617f9cd36cd4217...|\n",
            "|                4|           Alice|       Williams|alicewilliams@ema...|    555-4321|  234 Cedar Dr|   Yourtown|          FL|         89012|                   4|           2024-06-08|     9999-12-31|              true|0ade7a14143c23d4a...|\n",
            "|                5|         Michael|          Brown|michaelbrown@emai...|    555-9876|  567 Elm Blvd|  Theirtown|          IL|         45678|                   5|           2024-06-08|     9999-12-31|              true|7f42a2317bdd347da...|\n",
            "|                6|           Emily|         Miller|emilymiller@email...|    555-6543|  890 Birch Rd|    Newcity|          WA|         23456|                   6|           2024-06-08|     9999-12-31|              true|feecf783e7bb08532...|\n",
            "|                7|           David|          Jones|davidjones@email.com|    555-2345| 678 Maple Ave|   Yourcity|          GA|         78901|                   7|           2024-06-08|     9999-12-31|              true|dc8da3bef6a74b542...|\n",
            "|                8|           Sarah|       Anderson|sarahanderson@ema...|    555-5432|   901 Pine St|   Heretown|          OH|         56789|                   8|           2024-06-08|     9999-12-31|              true|040a8daf34580442c...|\n",
            "|                9|     Christopher|         Taylor|christophertaylor...|    555-8765|    234 Oak Ln|   Thistown|          PA|         12345|                   9|           2024-06-08|     9999-12-31|              true|9f1a5e7d23ec6c6fc...|\n",
            "|               10|          Olivia|          Clark|oliviaclark@email...|    555-3456| 567 Cedar Ave|   Thatcity|          TN|         67890|                  10|           2024-06-08|     9999-12-31|              true|c0e41364b85d0729f...|\n",
            "+-----------------+----------------+---------------+--------------------+------------+--------------+-----------+------------+--------------+--------------------+---------------------+---------------+------------------+--------------------+\n",
            "\n"
          ]
        }
      ]
    },
    {
      "cell_type": "code",
      "source": [
        "customers_source_df_hash = \\\n",
        "column_renamer(df=get_hash(customers_source_df, slowly_changing_cols), suffix=\"_source\", append=True)"
      ],
      "metadata": {
        "id": "7-dYfgDuyYFq"
      },
      "execution_count": null,
      "outputs": []
    },
    {
      "cell_type": "code",
      "source": [
        "customers_source_df_hash.show()"
      ],
      "metadata": {
        "colab": {
          "base_uri": "https://localhost:8080/"
        },
        "id": "y6UhA8t-ynKq",
        "outputId": "e1f2bc7b-6614-48e7-b3c2-5e9abb94945f"
      },
      "execution_count": null,
      "outputs": [
        {
          "output_type": "stream",
          "name": "stdout",
          "text": [
            "+-----------------+----------------+---------------+--------------------+------------+--------------+-----------+------------+--------------+--------------------+\n",
            "|customerid_source|firstname_source|lastname_source|        email_source|phone_source|address_source|city_source|state_source|zipcode_source|     hash_md5_source|\n",
            "+-----------------+----------------+---------------+--------------------+------------+--------------+-----------+------------+--------------+--------------------+\n",
            "|                1|            John|            Doe|   johndoe@gmail.com|    555-1234|   123 Main St|    Anytown|          CA|         12345|8db85f2fdc7c5c1e4...|\n",
            "|                2|            Jane|          Smith| janesmith@email.com|    555-5679|   456 Oak Ave|   Sometown|          NY|         67890|4b77ad952717438be...|\n",
            "|                3|          Robert|        Johnson|robertjohnson@ema...|    555-8765|    123 Elm Ln| Harborcity|          FL|         87654|e194f30cc658c18bf...|\n",
            "|                4|           Alice|       Williams|alicewilliams@ema...|    555-4321|  234 Cedar Dr|   Yourtown|          FL|         89012|0ade7a14143c23d4a...|\n",
            "|                5|         Michael|          Brown|michaelbrown@emai...|    555-9876|  567 Elm Blvd|  Theirtown|          IL|         45678|7f42a2317bdd347da...|\n",
            "|                6|           Emily|         Miller|emilymiller@email...|    555-6543|  890 Birch Rd|    Newcity|          WA|         23456|feecf783e7bb08532...|\n",
            "|                7|           David|          Jones|davidjones@email.com|    555-2345| 678 Maple Ave|   Yourcity|          GA|         78901|dc8da3bef6a74b542...|\n",
            "|                8|           Sarah|       Anderson|sarahanderson@ema...|    555-5432|   901 Pine St|   Heretown|          OH|         56789|040a8daf34580442c...|\n",
            "|                9|     Christopher|         Taylor|christophertaylor...|    555-8765|    234 Oak Ln|   Thistown|          PA|         12345|9f1a5e7d23ec6c6fc...|\n",
            "|               11|           Grace|         Turner|graceturner@email...|    555-1122|    567 Oak St|   Cityview|          CA|         98765|1660312ac56197c3c...|\n",
            "|               12|          Connor|          Evans|connorevans@email...|    555-2233|  890 Pine Ave| Townsville|          TX|         54321|27a598d862504d69d...|\n",
            "+-----------------+----------------+---------------+--------------------+------------+--------------+-----------+------------+--------------+--------------------+\n",
            "\n"
          ]
        }
      ]
    },
    {
      "cell_type": "code",
      "source": [
        "merged_df = \\\n",
        "active_customers_target_df_hash.join(customers_source_df_hash, \\\n",
        "                                     col(\"customerid_source\") ==  col(\"customerid_target\") , \"full_outer\") \\\n",
        ".withColumn(\"Action\", when(col(\"hash_md5_source\") == col(\"hash_md5_target\")  , 'NOCHANGE')\\\n",
        "                    .when(col(\"customerid_source\").isNull(), 'DELETE')\\\n",
        "                    .when(col(\"customerid_target\").isNull(), 'INSERT')\\\n",
        "                    .otherwise('UPDATE') )\n",
        "\n",
        "merged_df.show()"
      ],
      "metadata": {
        "colab": {
          "base_uri": "https://localhost:8080/"
        },
        "id": "Y7T4eHOfyxEd",
        "outputId": "e9e04c90-3645-4fb8-8044-4e4f03e0f0f9"
      },
      "execution_count": null,
      "outputs": [
        {
          "output_type": "stream",
          "name": "stdout",
          "text": [
            "+-----------------+----------------+---------------+--------------------+------------+--------------+-----------+------------+--------------+--------------------+---------------------+---------------+------------------+--------------------+-----------------+----------------+---------------+--------------------+------------+--------------+-----------+------------+--------------+--------------------+--------+\n",
            "|customerid_target|firstname_target|lastname_target|        email_target|phone_target|address_target|city_target|state_target|zipcode_target|customer_skey_target|effective_date_target|end_date_target|active_flag_target|     hash_md5_target|customerid_source|firstname_source|lastname_source|        email_source|phone_source|address_source|city_source|state_source|zipcode_source|     hash_md5_source|  Action|\n",
            "+-----------------+----------------+---------------+--------------------+------------+--------------+-----------+------------+--------------+--------------------+---------------------+---------------+------------------+--------------------+-----------------+----------------+---------------+--------------------+------------+--------------+-----------+------------+--------------+--------------------+--------+\n",
            "|                1|            John|            Doe|   johndoe@email.com|    555-1234|   123 Main St|    Anytown|          CA|         12345|                   1|           2024-06-08|     9999-12-31|              true|31ddb0d8a5baa88cc...|                1|            John|            Doe|   johndoe@gmail.com|    555-1234|   123 Main St|    Anytown|          CA|         12345|8db85f2fdc7c5c1e4...|  UPDATE|\n",
            "|                2|            Jane|          Smith| janesmith@email.com|    555-5678|   456 Oak Ave|   Sometown|          NY|         67890|                   2|           2024-06-08|     9999-12-31|              true|b1604de584bc896a6...|                2|            Jane|          Smith| janesmith@email.com|    555-5679|   456 Oak Ave|   Sometown|          NY|         67890|4b77ad952717438be...|  UPDATE|\n",
            "|                3|          Robert|        Johnson|robertjohnson@ema...|    555-8765|   789 Pine Ln|  Othercity|          TX|         34567|                   3|           2024-06-08|     9999-12-31|              true|42617f9cd36cd4217...|                3|          Robert|        Johnson|robertjohnson@ema...|    555-8765|    123 Elm Ln| Harborcity|          FL|         87654|e194f30cc658c18bf...|  UPDATE|\n",
            "|                4|           Alice|       Williams|alicewilliams@ema...|    555-4321|  234 Cedar Dr|   Yourtown|          FL|         89012|                   4|           2024-06-08|     9999-12-31|              true|0ade7a14143c23d4a...|                4|           Alice|       Williams|alicewilliams@ema...|    555-4321|  234 Cedar Dr|   Yourtown|          FL|         89012|0ade7a14143c23d4a...|NOCHANGE|\n",
            "|                5|         Michael|          Brown|michaelbrown@emai...|    555-9876|  567 Elm Blvd|  Theirtown|          IL|         45678|                   5|           2024-06-08|     9999-12-31|              true|7f42a2317bdd347da...|                5|         Michael|          Brown|michaelbrown@emai...|    555-9876|  567 Elm Blvd|  Theirtown|          IL|         45678|7f42a2317bdd347da...|NOCHANGE|\n",
            "|                6|           Emily|         Miller|emilymiller@email...|    555-6543|  890 Birch Rd|    Newcity|          WA|         23456|                   6|           2024-06-08|     9999-12-31|              true|feecf783e7bb08532...|                6|           Emily|         Miller|emilymiller@email...|    555-6543|  890 Birch Rd|    Newcity|          WA|         23456|feecf783e7bb08532...|NOCHANGE|\n",
            "|                7|           David|          Jones|davidjones@email.com|    555-2345| 678 Maple Ave|   Yourcity|          GA|         78901|                   7|           2024-06-08|     9999-12-31|              true|dc8da3bef6a74b542...|                7|           David|          Jones|davidjones@email.com|    555-2345| 678 Maple Ave|   Yourcity|          GA|         78901|dc8da3bef6a74b542...|NOCHANGE|\n",
            "|                8|           Sarah|       Anderson|sarahanderson@ema...|    555-5432|   901 Pine St|   Heretown|          OH|         56789|                   8|           2024-06-08|     9999-12-31|              true|040a8daf34580442c...|                8|           Sarah|       Anderson|sarahanderson@ema...|    555-5432|   901 Pine St|   Heretown|          OH|         56789|040a8daf34580442c...|NOCHANGE|\n",
            "|                9|     Christopher|         Taylor|christophertaylor...|    555-8765|    234 Oak Ln|   Thistown|          PA|         12345|                   9|           2024-06-08|     9999-12-31|              true|9f1a5e7d23ec6c6fc...|                9|     Christopher|         Taylor|christophertaylor...|    555-8765|    234 Oak Ln|   Thistown|          PA|         12345|9f1a5e7d23ec6c6fc...|NOCHANGE|\n",
            "|               10|          Olivia|          Clark|oliviaclark@email...|    555-3456| 567 Cedar Ave|   Thatcity|          TN|         67890|                  10|           2024-06-08|     9999-12-31|              true|c0e41364b85d0729f...|             NULL|            NULL|           NULL|                NULL|        NULL|          NULL|       NULL|        NULL|          NULL|                NULL|  DELETE|\n",
            "|             NULL|            NULL|           NULL|                NULL|        NULL|          NULL|       NULL|        NULL|          NULL|                NULL|                 NULL|           NULL|              NULL|                NULL|               11|           Grace|         Turner|graceturner@email...|    555-1122|    567 Oak St|   Cityview|          CA|         98765|1660312ac56197c3c...|  INSERT|\n",
            "|             NULL|            NULL|           NULL|                NULL|        NULL|          NULL|       NULL|        NULL|          NULL|                NULL|                 NULL|           NULL|              NULL|                NULL|               12|          Connor|          Evans|connorevans@email...|    555-2233|  890 Pine Ave| Townsville|          TX|         54321|27a598d862504d69d...|  INSERT|\n",
            "+-----------------+----------------+---------------+--------------------+------------+--------------+-----------+------------+--------------+--------------------+---------------------+---------------+------------------+--------------------+-----------------+----------------+---------------+--------------------+------------+--------------+-----------+------------+--------------+--------------------+--------+\n",
            "\n"
          ]
        }
      ]
    },
    {
      "cell_type": "code",
      "source": [
        "unchanged_records = \\\n",
        "column_renamer(merged_df.filter(col(\"action\") == 'NOCHANGE'), suffix=\"_target\", append=False) \\\n",
        ".select(active_customers_target_df.columns)\n",
        "\n",
        "unchanged_records.show()"
      ],
      "metadata": {
        "colab": {
          "base_uri": "https://localhost:8080/"
        },
        "id": "58iLI8v4zBoB",
        "outputId": "d46fd244-c53b-48eb-ad15-855712120030"
      },
      "execution_count": null,
      "outputs": [
        {
          "output_type": "stream",
          "name": "stdout",
          "text": [
            "+----------+-----------+--------+--------------------+--------+-------------+---------+-----+-------+-------------+--------------+----------+-----------+\n",
            "|customerid|  firstname|lastname|               email|   phone|      address|     city|state|zipcode|customer_skey|effective_date|  end_date|active_flag|\n",
            "+----------+-----------+--------+--------------------+--------+-------------+---------+-----+-------+-------------+--------------+----------+-----------+\n",
            "|         4|      Alice|Williams|alicewilliams@ema...|555-4321| 234 Cedar Dr| Yourtown|   FL|  89012|            4|    2024-06-08|9999-12-31|       true|\n",
            "|         5|    Michael|   Brown|michaelbrown@emai...|555-9876| 567 Elm Blvd|Theirtown|   IL|  45678|            5|    2024-06-08|9999-12-31|       true|\n",
            "|         6|      Emily|  Miller|emilymiller@email...|555-6543| 890 Birch Rd|  Newcity|   WA|  23456|            6|    2024-06-08|9999-12-31|       true|\n",
            "|         7|      David|   Jones|davidjones@email.com|555-2345|678 Maple Ave| Yourcity|   GA|  78901|            7|    2024-06-08|9999-12-31|       true|\n",
            "|         8|      Sarah|Anderson|sarahanderson@ema...|555-5432|  901 Pine St| Heretown|   OH|  56789|            8|    2024-06-08|9999-12-31|       true|\n",
            "|         9|Christopher|  Taylor|christophertaylor...|555-8765|   234 Oak Ln| Thistown|   PA|  12345|            9|    2024-06-08|9999-12-31|       true|\n",
            "+----------+-----------+--------+--------------------+--------+-------------+---------+-----+-------+-------------+--------------+----------+-----------+\n",
            "\n"
          ]
        }
      ]
    },
    {
      "cell_type": "code",
      "source": [
        "insert_records = column_renamer(merged_df.filter(col(\"action\") == 'INSERT'), suffix=\"_source\", append=False) \\\n",
        "                .select(customers_source_df.columns)\\\n",
        "                .withColumn(\"row_number\",row_number().over(window_def))\\\n",
        "                .withColumn(\"customer_skey\",col(\"row_number\")+ max_sk)\\\n",
        "                .withColumn(\"effective_date\",date_format(current_date(),DATE_FORMAT))\\\n",
        "                .withColumn(\"end_date\",date_format(lit(future_date),DATE_FORMAT))\\\n",
        "                .withColumn(\"active_flag\", lit(True))\\\n",
        "                .drop(\"row_number\")\n",
        "\n",
        "insert_records.show()"
      ],
      "metadata": {
        "colab": {
          "base_uri": "https://localhost:8080/"
        },
        "id": "c21JauADzMFo",
        "outputId": "07352d30-2734-4173-c67c-a5f39af217c4"
      },
      "execution_count": null,
      "outputs": [
        {
          "output_type": "stream",
          "name": "stdout",
          "text": [
            "+----------+---------+--------+--------------------+--------+------------+----------+-----+-------+-------------+--------------+----------+-----------+\n",
            "|customerid|firstname|lastname|               email|   phone|     address|      city|state|zipcode|customer_skey|effective_date|  end_date|active_flag|\n",
            "+----------+---------+--------+--------------------+--------+------------+----------+-----+-------+-------------+--------------+----------+-----------+\n",
            "|        11|    Grace|  Turner|graceturner@email...|555-1122|  567 Oak St|  Cityview|   CA|  98765|           11|    2024-06-08|9999-12-31|       true|\n",
            "|        12|   Connor|   Evans|connorevans@email...|555-2233|890 Pine Ave|Townsville|   TX|  54321|           12|    2024-06-08|9999-12-31|       true|\n",
            "+----------+---------+--------+--------------------+--------+------------+----------+-----+-------+-------------+--------------+----------+-----------+\n",
            "\n"
          ]
        }
      ]
    },
    {
      "cell_type": "code",
      "source": [
        "max_sk = insert_records.agg({\"customer_skey\": \"max\"}).collect()[0][0]\n",
        "\n",
        "print(max_sk)"
      ],
      "metadata": {
        "colab": {
          "base_uri": "https://localhost:8080/"
        },
        "id": "vQ4QNddfzS6D",
        "outputId": "92462999-3c08-418a-d7c3-876844bdd464"
      },
      "execution_count": null,
      "outputs": [
        {
          "output_type": "stream",
          "name": "stdout",
          "text": [
            "12\n"
          ]
        }
      ]
    },
    {
      "cell_type": "code",
      "source": [
        "update_records = column_renamer(merged_df.filter(col(\"action\") == 'UPDATE'), suffix=\"_target\", append=False)\\\n",
        "                .select(active_customers_target_df.columns)\\\n",
        "                .withColumn(\"end_date\", date_format(current_date(),DATE_FORMAT))\\\n",
        "                .withColumn(\"active_flag\", lit(False))\\\n",
        "            .unionByName(\n",
        "            column_renamer(merged_df.filter(col(\"action\") == 'UPDATE'), suffix=\"_source\", append=False)\\\n",
        "                .select(customers_source_df.columns)\\\n",
        "                .withColumn(\"effective_date\",date_format(current_date(),DATE_FORMAT))\\\n",
        "                .withColumn(\"end_date\",date_format(lit(future_date),DATE_FORMAT))\\\n",
        "                .withColumn(\"row_number\",row_number().over(window_def))\\\n",
        "                .withColumn(\"customer_skey\",col(\"row_number\")+ max_sk)\\\n",
        "                .withColumn(\"active_flag\", lit(True))\\\n",
        "                .drop(\"row_number\")\n",
        "                )\n"
      ],
      "metadata": {
        "id": "h2lvRnZu3n6a"
      },
      "execution_count": null,
      "outputs": []
    },
    {
      "cell_type": "code",
      "source": [
        "update_records.show()"
      ],
      "metadata": {
        "colab": {
          "base_uri": "https://localhost:8080/"
        },
        "id": "AKIuh9QczaTN",
        "outputId": "29236ec8-1c79-41f3-c33e-4e31d8e8d441"
      },
      "execution_count": null,
      "outputs": [
        {
          "output_type": "stream",
          "name": "stdout",
          "text": [
            "+----------+---------+--------+--------------------+--------+-----------+----------+-----+-------+-------------+--------------+----------+-----------+\n",
            "|customerid|firstname|lastname|               email|   phone|    address|      city|state|zipcode|customer_skey|effective_date|  end_date|active_flag|\n",
            "+----------+---------+--------+--------------------+--------+-----------+----------+-----+-------+-------------+--------------+----------+-----------+\n",
            "|         1|     John|     Doe|   johndoe@email.com|555-1234|123 Main St|   Anytown|   CA|  12345|            1|    2024-06-08|2024-06-08|      false|\n",
            "|         2|     Jane|   Smith| janesmith@email.com|555-5678|456 Oak Ave|  Sometown|   NY|  67890|            2|    2024-06-08|2024-06-08|      false|\n",
            "|         3|   Robert| Johnson|robertjohnson@ema...|555-8765|789 Pine Ln| Othercity|   TX|  34567|            3|    2024-06-08|2024-06-08|      false|\n",
            "|         1|     John|     Doe|   johndoe@gmail.com|555-1234|123 Main St|   Anytown|   CA|  12345|           13|    2024-06-08|9999-12-31|       true|\n",
            "|         2|     Jane|   Smith| janesmith@email.com|555-5679|456 Oak Ave|  Sometown|   NY|  67890|           14|    2024-06-08|9999-12-31|       true|\n",
            "|         3|   Robert| Johnson|robertjohnson@ema...|555-8765| 123 Elm Ln|Harborcity|   FL|  87654|           15|    2024-06-08|9999-12-31|       true|\n",
            "+----------+---------+--------+--------------------+--------+-----------+----------+-----+-------+-------------+--------------+----------+-----------+\n",
            "\n"
          ]
        }
      ]
    },
    {
      "cell_type": "code",
      "source": [
        "max_sk = update_records.agg({\"customer_skey\": \"max\"}).collect()[0][0]\n",
        "\n",
        "print(max_sk)"
      ],
      "metadata": {
        "colab": {
          "base_uri": "https://localhost:8080/"
        },
        "id": "AcIBLAs23uWQ",
        "outputId": "87f166df-0fe5-40c1-d5b9-2d3790cd5498"
      },
      "execution_count": null,
      "outputs": [
        {
          "output_type": "stream",
          "name": "stdout",
          "text": [
            "15\n"
          ]
        }
      ]
    },
    {
      "cell_type": "code",
      "source": [
        "delete_records = column_renamer(merged_df.filter(col(\"action\") == 'DELETE'), suffix=\"_target\", append=False)\\\n",
        "                .select(active_customers_target_df.columns)\\\n",
        "                .withColumn(\"end_date\", date_format(current_date(),DATE_FORMAT))\\\n",
        "                .withColumn(\"active_flag\", lit(False))\n",
        "\n",
        "delete_records.show()\n"
      ],
      "metadata": {
        "colab": {
          "base_uri": "https://localhost:8080/"
        },
        "id": "0Vwcm9mQ3494",
        "outputId": "0af9a8c5-7c1f-471c-99db-4f63a40b67fd"
      },
      "execution_count": null,
      "outputs": [
        {
          "output_type": "stream",
          "name": "stdout",
          "text": [
            "+----------+---------+--------+--------------------+--------+-------------+--------+-----+-------+-------------+--------------+----------+-----------+\n",
            "|customerid|firstname|lastname|               email|   phone|      address|    city|state|zipcode|customer_skey|effective_date|  end_date|active_flag|\n",
            "+----------+---------+--------+--------------------+--------+-------------+--------+-----+-------+-------------+--------------+----------+-----------+\n",
            "|        10|   Olivia|   Clark|oliviaclark@email...|555-3456|567 Cedar Ave|Thatcity|   TN|  67890|           10|    2024-06-08|2024-06-08|      false|\n",
            "+----------+---------+--------+--------------------+--------+-------------+--------+-----+-------+-------------+--------------+----------+-----------+\n",
            "\n"
          ]
        }
      ]
    },
    {
      "cell_type": "code",
      "source": [
        "resultant_df = inactive_customers_target_df \\\n",
        "            .unionByName(unchanged_records)\\\n",
        "            .unionByName(insert_records)\\\n",
        "            .unionByName(update_records)\\\n",
        "            .unionByName(delete_records)\n",
        "\n",
        "resultant_df.show()"
      ],
      "metadata": {
        "colab": {
          "base_uri": "https://localhost:8080/"
        },
        "id": "tj86ee3T39yj",
        "outputId": "cc8ae64a-99b7-452d-dfb5-6170ec5687a3"
      },
      "execution_count": null,
      "outputs": [
        {
          "output_type": "stream",
          "name": "stdout",
          "text": [
            "+----------+-----------+--------+--------------------+--------+-------------+----------+-----+-------+-------------+--------------+----------+-----------+\n",
            "|customerid|  firstname|lastname|               email|   phone|      address|      city|state|zipcode|customer_skey|effective_date|  end_date|active_flag|\n",
            "+----------+-----------+--------+--------------------+--------+-------------+----------+-----+-------+-------------+--------------+----------+-----------+\n",
            "|         4|      Alice|Williams|alicewilliams@ema...|555-4321| 234 Cedar Dr|  Yourtown|   FL|  89012|            4|    2024-06-08|9999-12-31|       true|\n",
            "|         5|    Michael|   Brown|michaelbrown@emai...|555-9876| 567 Elm Blvd| Theirtown|   IL|  45678|            5|    2024-06-08|9999-12-31|       true|\n",
            "|         6|      Emily|  Miller|emilymiller@email...|555-6543| 890 Birch Rd|   Newcity|   WA|  23456|            6|    2024-06-08|9999-12-31|       true|\n",
            "|         7|      David|   Jones|davidjones@email.com|555-2345|678 Maple Ave|  Yourcity|   GA|  78901|            7|    2024-06-08|9999-12-31|       true|\n",
            "|         8|      Sarah|Anderson|sarahanderson@ema...|555-5432|  901 Pine St|  Heretown|   OH|  56789|            8|    2024-06-08|9999-12-31|       true|\n",
            "|         9|Christopher|  Taylor|christophertaylor...|555-8765|   234 Oak Ln|  Thistown|   PA|  12345|            9|    2024-06-08|9999-12-31|       true|\n",
            "|        11|      Grace|  Turner|graceturner@email...|555-1122|   567 Oak St|  Cityview|   CA|  98765|           11|    2024-06-08|9999-12-31|       true|\n",
            "|        12|     Connor|   Evans|connorevans@email...|555-2233| 890 Pine Ave|Townsville|   TX|  54321|           12|    2024-06-08|9999-12-31|       true|\n",
            "|         1|       John|     Doe|   johndoe@email.com|555-1234|  123 Main St|   Anytown|   CA|  12345|            1|    2024-06-08|2024-06-08|      false|\n",
            "|         2|       Jane|   Smith| janesmith@email.com|555-5678|  456 Oak Ave|  Sometown|   NY|  67890|            2|    2024-06-08|2024-06-08|      false|\n",
            "|         3|     Robert| Johnson|robertjohnson@ema...|555-8765|  789 Pine Ln| Othercity|   TX|  34567|            3|    2024-06-08|2024-06-08|      false|\n",
            "|         1|       John|     Doe|   johndoe@gmail.com|555-1234|  123 Main St|   Anytown|   CA|  12345|           13|    2024-06-08|9999-12-31|       true|\n",
            "|         2|       Jane|   Smith| janesmith@email.com|555-5679|  456 Oak Ave|  Sometown|   NY|  67890|           14|    2024-06-08|9999-12-31|       true|\n",
            "|         3|     Robert| Johnson|robertjohnson@ema...|555-8765|   123 Elm Ln|Harborcity|   FL|  87654|           15|    2024-06-08|9999-12-31|       true|\n",
            "|        10|     Olivia|   Clark|oliviaclark@email...|555-3456|567 Cedar Ave|  Thatcity|   TN|  67890|           10|    2024-06-08|2024-06-08|      false|\n",
            "+----------+-----------+--------+--------------------+--------+-------------+----------+-----+-------+-------------+--------------+----------+-----------+\n",
            "\n"
          ]
        }
      ]
    },
    {
      "cell_type": "code",
      "source": [
        "spark.stop()"
      ],
      "metadata": {
        "id": "2_IGgoE-4B4p"
      },
      "execution_count": null,
      "outputs": []
    }
  ]
}